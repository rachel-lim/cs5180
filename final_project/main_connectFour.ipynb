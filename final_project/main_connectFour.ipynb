{
 "cells": [
  {
   "cell_type": "code",
   "execution_count": 1,
   "id": "f30895ee-e2a5-4494-aeeb-4457d55705a4",
   "metadata": {},
   "outputs": [],
   "source": [
    "from connectFourEnv import ConnectFourEnv\n",
    "from dqn_net_connect import CNNCom\n",
    "# from equivariant_dqn_net_larger import EquivariantCNNCom\n",
    "from memory_connect import ReplayMemory\n",
    "from utils.schedules import LinearSchedule\n",
    "\n",
    "import copy\n",
    "import tqdm\n",
    "import torch\n",
    "import numpy as np\n",
    "import torch.nn.functional as F\n",
    "\n",
    "import matplotlib.pyplot as plt"
   ]
  },
  {
   "cell_type": "code",
   "execution_count": 2,
   "id": "93350b59-751a-4a5d-af1e-6b9ce9f34058",
   "metadata": {},
   "outputs": [],
   "source": [
    "class LinearSchedule(object):\n",
    "    \"\"\" This schedule returns the value linearly\"\"\"\n",
    "    def __init__(self, start_value, end_value, duration):\n",
    "        self._start_value = start_value\n",
    "        self._end_value = end_value\n",
    "        self._duration = duration\n",
    "        self._schedule_amount = end_value - start_value\n",
    "\n",
    "    def value(self, time):\n",
    "        # logic: if time > duration, use the end value, else use the scheduled value\n",
    "        return self._start_value + self._schedule_amount * min(1.0, time * 1.0 / self._duration)\n",
    "\n",
    "def evaluate(dqn_model, env, eps=0.1, equi=False):\n",
    "    obs = env.reset()\n",
    "    done = False\n",
    "    rewards = []\n",
    "    actions = []\n",
    "    \n",
    "    for _ in range(500): # timeout at 500 steps\n",
    "        # get greedy action\n",
    "        if np.random.rand() < eps:\n",
    "            action = np.random.choice(range(4))\n",
    "        else:\n",
    "            obs_tensor = torch.tensor(obs.copy(), dtype=torch.float32).unsqueeze(0)\n",
    "            if equi:\n",
    "                obs_tensor = obs_tensor.unsqueeze(0)\n",
    "            q_values = dqn_model(obs_tensor)  # add dim to observation\n",
    "            max_q_idx = torch.where(q_values == q_values.max())[0]\n",
    "            action = np.random.choice(max_q_idx.tolist())\n",
    "    \n",
    "        obs, reward, done = env.step(action)\n",
    "        rewards.append(reward)\n",
    "\n",
    "        if done:\n",
    "            break\n",
    "    # env.render()\n",
    "    g = 0\n",
    "    for r in rewards[::-1]:\n",
    "        g = 0.99*g + r\n",
    "    return g\n",
    "\n",
    "exploration = LinearSchedule(1, .1, 500_000)"
   ]
  },
  {
   "cell_type": "code",
   "execution_count": 3,
   "id": "f2286956-a226-48ab-b50c-d34b97cdb04e",
   "metadata": {},
   "outputs": [],
   "source": [
    "def train_dqn_batch(optimizer, batch, dqn_model, dqn_target, gamma) -> float:\n",
    "    \"\"\"Perform a single batch-update step on the given DQN model.\n",
    "\n",
    "    :param optimizer: nn.optim.Optimizer instance\n",
    "    :param batch: Batch of experiences (class defined earlier)\n",
    "    :param dqn_model: The DQN model to be trained\n",
    "    :param dqn_target: The target DQN model, ~NOT~ to be trained\n",
    "    :param gamma: The discount factor\n",
    "    :rtype: Float. The scalar loss associated with this batch\n",
    "    \"\"\"\n",
    "  \n",
    "    values = dqn_model(batch.observations).gather(1, batch.actions)\n",
    "\n",
    "    with torch.no_grad():\n",
    "        next_q = dqn_target(batch.next_observations).max(1)[0].view(-1, 1)\n",
    "        target_values = batch.rewards + gamma * next_q * (~batch.dones)\n",
    "\n",
    "    loss = F.smooth_l1_loss(values, target_values)  # CHANGED\n",
    "\n",
    "    optimizer.zero_grad()  # Reset all previous gradients\n",
    "    loss.backward()  # Compute new gradients\n",
    "    optimizer.step()  # Perform one gradient-descent step\n",
    "\n",
    "    return loss.item()"
   ]
  },
  {
   "cell_type": "code",
   "execution_count": 4,
   "id": "2fcd4476-e576-4379-8d0b-dc15f62e3dba",
   "metadata": {},
   "outputs": [
    {
     "name": "stderr",
     "output_type": "stream",
     "text": [
      "Episode: 57856 | Steps: 6 | Return:  9.61 | Epsilon: 0.10: 100%|███████████████| 500000/500000 [20:01<00:00, 416.09it/s]\n"
     ]
    }
   ],
   "source": [
    "params = {\"num_steps\": 500_000,\n",
    "          \"num_saves\": 5,\n",
    "          \"replay_size\": 200_000,\n",
    "          \"replay_prepopulate_steps\": 50_000,\n",
    "          \"batch_size\": 64,\n",
    "          \"state_size\": 2,\n",
    "          \"gamma\": 0.99,\n",
    "          \"model\": \"regular\",\n",
    "          \"checkpoint\": None,\n",
    "          \"checkpoint_t\": 0} # equi or regular \n",
    "\n",
    "# for run_number in [2]:\n",
    "    # def train_dqn(env, exploration, params):\n",
    "env = ConnectFourEnv()\n",
    "eval_env = ConnectFourEnv()\n",
    "\n",
    "# Initialize the DQN and DQN-target models\n",
    "if params[\"model\"] == \"regular\":\n",
    "    dqn_model = CNNCom()\n",
    "    dqn_target = CNNCom()#.custom_load(dqn_model.custom_dump())\n",
    "else:\n",
    "    dqn_model = EquivariantCNNCom()\n",
    "    dqn_target = EquivariantCNNCom()\n",
    "    dqn_model.train()\n",
    "    dqn_target.train()\n",
    "\n",
    "if params[\"checkpoint\"] is not None:\n",
    "    checkpoint = torch.load(params[\"checkpoint\"])\n",
    "    dqn_model.load_state_dict(checkpoint[\"100_0\"][\"state_dict\"])\n",
    "    dqn_target.load_state_dict(checkpoint[\"100_0\"][\"state_dict\"])\n",
    "    \n",
    "# Initialize the optimizer\n",
    "optimizer = torch.optim.Adam(dqn_model.parameters(), lr=1e-3)\n",
    "\n",
    "# Initialize the replay memory and prepopulate it\n",
    "memory = ReplayMemory(params[\"replay_size\"], env.grid.shape, torch.device(\"cpu\"))\n",
    "memory.populate(env, params[\"replay_prepopulate_steps\"])\n",
    "\n",
    "# Initialize lists to store returns, lengths, and losses\n",
    "rewards = []\n",
    "returns = []\n",
    "lengths = []\n",
    "losses = []\n",
    "evals = []\n",
    "\n",
    "# # Initialize structures to store the models at different stages of training\n",
    "t_saves = np.linspace(0, params[\"num_steps\"], params[\"num_saves\"] - 1, endpoint=False)\n",
    "saved_models = {}\n",
    "\n",
    "i_episode = 0  # Use this to indicate the index of the current episode\n",
    "t_episode = 0  # Use this to indicate the time-step inside current episode\n",
    "\n",
    "obs = env.reset()  # Initialize state of first episode\n",
    "G=0\n",
    "\n",
    "pbar = tqdm.trange(params[\"num_steps\"])\n",
    "for t_total in pbar:\n",
    "\n",
    "    # Save model\n",
    "    if t_total in t_saves:\n",
    "        model_name = f'{100 * t_total / params[\"num_steps\"]:04.1f}'.replace('.', '_')\n",
    "        saved_models[model_name] = copy.deepcopy(dqn_model)\n",
    "\n",
    "    # get action using e-greedy\n",
    "    eps = exploration.value(t_total + params[\"checkpoint_t\"])  # get current epsilon value\n",
    "    # eps = 0.1\n",
    "    if np.random.rand() < eps:\n",
    "        action = np.random.choice(env.action_space)\n",
    "    else:\n",
    "        with torch.no_grad():\n",
    "            q_values = dqn_model(torch.tensor(obs, dtype=torch.float32).unsqueeze(0).unsqueeze(0))  # add dim to observation\n",
    "            max_q_idx = torch.where(q_values == q_values.max())[0]\n",
    "            action = np.random.choice(max_q_idx.tolist())\n",
    "        \n",
    "    # step forward env\n",
    "    next_obs, reward, done = env.step(action)\n",
    "\n",
    "    # add transition to memory\n",
    "    memory.add(obs, action, reward, next_obs, done)\n",
    "\n",
    "    if t_total%4 == 0:\n",
    "        batch = memory.sample(params[\"batch_size\"])\n",
    "        loss = train_dqn_batch(optimizer, batch, dqn_model, dqn_target, params[\"gamma\"])\n",
    "        losses.append(loss)\n",
    "\n",
    "    if t_total%10000 == 0:\n",
    "        dqn_target.load_state_dict(dqn_model.state_dict())\n",
    "\n",
    "    if t_total%1000 == 0:\n",
    "        evals.append(evaluate(dqn_model, eval_env, 0.1, params[\"model\"]==\"equi\"))\n",
    "        pbar.set_description(\n",
    "            f'Episode: {i_episode} | Steps: {t_episode + 1} | Return: {evals[-1]:5.2f} | Epsilon: {eps:4.2f}'\n",
    "        )\n",
    "\n",
    "    if done:\n",
    "        rewards.append(reward)\n",
    "        G = 0\n",
    "        for r in rewards[::-1]:\n",
    "            G = params[\"gamma\"] * G + r\n",
    "\n",
    "        returns.append(G)\n",
    "        lengths.append(t_episode)\n",
    "\n",
    "        # reset\n",
    "        t_episode = 0\n",
    "        i_episode += 1\n",
    "        rewards = []\n",
    "        obs = env.reset()\n",
    "        \n",
    "    else:\n",
    "        # state = next_state\n",
    "        obs = np.copy(next_obs)\n",
    "        t_episode += 1\n",
    "        rewards.append(reward)\n",
    "\n",
    "saved_models['100_0'] = copy.deepcopy(dqn_model)\n",
    "\n",
    "# with open(f\"equi_run{run_number}.npy\", \"wb\") as f:\n",
    "#     np.save(f, np.array(evals))\n",
    "#     np.save(f, np.array(returns))"
   ]
  },
  {
   "cell_type": "code",
   "execution_count": 7,
   "id": "b68e2e7d-46b4-45dd-91f2-6b002f3c7466",
   "metadata": {},
   "outputs": [
    {
     "data": {
      "text/plain": [
       "[<matplotlib.lines.Line2D at 0x7fe5106fa400>]"
      ]
     },
     "execution_count": 7,
     "metadata": {},
     "output_type": "execute_result"
    },
    {
     "data": {
      "image/png": "[encoded data removed]",
      "text/plain": [
       "<Figure size 432x288 with 1 Axes>"
      ]
     },
     "metadata": {
      "needs_background": "light"
     },
     "output_type": "display_data"
    }
   ],
   "source": [
    "plt.plot(returns)\n",
    "plt.plot(moving_average(returns))"
   ]
  },
  {
   "cell_type": "code",
   "execution_count": 9,
   "id": "ffd0ec29-51dc-4fa7-a059-103ed5db6549",
   "metadata": {},
   "outputs": [
    {
     "data": {
      "text/plain": [
       "[<matplotlib.lines.Line2D at 0x7fe5105c8520>]"
      ]
     },
     "execution_count": 9,
     "metadata": {},
     "output_type": "execute_result"
    },
    {
     "data": {
      "image/png": "[encoded data removed]",
      "text/plain": [
       "<Figure size 432x288 with 1 Axes>"
      ]
     },
     "metadata": {
      "needs_background": "light"
     },
     "output_type": "display_data"
    }
   ],
   "source": [
    "plt.plot(evals)\n",
    "plt.plot(moving_average(evals))"
   ]
  },
  {
   "cell_type": "code",
   "execution_count": 42,
   "id": "7fd94f1c-f968-41af-b9d7-969ed5143279",
   "metadata": {},
   "outputs": [
    {
     "data": {
      "text/plain": [
       "tensor([10.3704,  9.5909,  6.9593,  9.2720,  5.8421, 11.8680, 12.4724],\n",
       "       grad_fn=<SqueezeBackward0>)"
      ]
     },
     "execution_count": 42,
     "metadata": {},
     "output_type": "execute_result"
    }
   ],
   "source": [
    "dqn_model(torch.tensor(env.grid, dtype=torch.float32).unsqueeze(0))"
   ]
  },
  {
   "cell_type": "code",
   "execution_count": 43,
   "id": "8938e4bf-f617-4433-9e5a-d782171953f4",
   "metadata": {},
   "outputs": [],
   "source": [
    "with open(f\"connect4_regular_run1.npy\", \"wb\") as f:\n",
    "    np.save(f, np.array(evals))\n",
    "    np.save(f, np.array(returns))\n",
    "    np.save(f, np.array(losses))"
   ]
  },
  {
   "cell_type": "code",
   "execution_count": 18,
   "id": "942179a3-0b97-4f0c-b7d5-37dcf1745f19",
   "metadata": {},
   "outputs": [
    {
     "data": {
      "text/plain": [
       "[9.509900498999999,\n",
       " -25.550961541125037,\n",
       " 9.414801494009998,\n",
       " -44.09434690643801,\n",
       " 9.70299,\n",
       " 9.605960099999999,\n",
       " -11.812148039906596,\n",
       " 9.509900498999999,\n",
       " 9.605960099999999,\n",
       " 9.605960099999999]"
      ]
     },
     "execution_count": 18,
     "metadata": {},
     "output_type": "execute_result"
    }
   ],
   "source": [
    "[evaluate(dqn_model, eval_env) for _ in range(10)]"
   ]
  },
  {
   "cell_type": "code",
   "execution_count": null,
   "id": "035ad5f7-8efe-413b-94d2-d9b62e3e17e8",
   "metadata": {},
   "outputs": [],
   "source": [
    "def custom_dump(dqn):\n",
    "    return {\n",
    "        # 'args': (2, 9),\n",
    "        # 'kwargs': {\n",
    "        #     'num_layers': 3,\n",
    "        #     'hidden_dim': 1,\n",
    "        # },\n",
    "        'state_dict': dqn.state_dict(),\n",
    "    }\n",
    "\n",
    "checkpoint = {key: custom_dump(dqn) for key, dqn in saved_models.items()}\n",
    "torch.save(checkpoint, f'fourrooms_200000_to_400000_steps.pt')"
   ]
  },
  {
   "cell_type": "code",
   "execution_count": 10,
   "id": "fe2b10eb-0791-4e53-abfb-608e73566a16",
   "metadata": {},
   "outputs": [
    {
     "data": {
      "text/plain": [
       "[<matplotlib.lines.Line2D at 0x7fe5105ad280>]"
      ]
     },
     "execution_count": 10,
     "metadata": {},
     "output_type": "execute_result"
    },
    {
     "data": {
      "image/png": "[encoded data removed]",
      "text/plain": [
       "<Figure size 432x288 with 1 Axes>"
      ]
     },
     "metadata": {
      "needs_background": "light"
     },
     "output_type": "display_data"
    }
   ],
   "source": [
    "plt.plot(losses)\n",
    "plt.plot(moving_average(losses))"
   ]
  },
  {
   "cell_type": "code",
   "execution_count": null,
   "id": "9a4ebc4c-1815-4052-99a6-4880d6c83e3c",
   "metadata": {},
   "outputs": [],
   "source": [
    "plt.plot(losses)"
   ]
  },
  {
   "cell_type": "code",
   "execution_count": null,
   "id": "947a3c9e-8223-4f09-b445-619270b89b59",
   "metadata": {},
   "outputs": [],
   "source": [
    "with open(f\"four_room_regular_2000000_run1.npy\", \"wb\") as f:\n",
    "    np.save(f, np.array(returns))"
   ]
  },
  {
   "cell_type": "code",
   "execution_count": null,
   "id": "c535ed8f-d192-4aa1-83ac-c7b5c3740a36",
   "metadata": {},
   "outputs": [],
   "source": [
    "\"\"\"Plot function similar to Ex1\"\"\"\n",
    "def plot_curves(arr_list, legend_list, color_list, ylabel):\n",
    "    \"\"\"\n",
    "    Args:\n",
    "        arr_list (list): list of results arrays to plot\n",
    "        legend_list (list): list of legends corresponding to each result array\n",
    "        color_list (list): list of color corresponding to each result array\n",
    "        ylabel (string): label of the Y axis\n",
    "\n",
    "        Note that, make sure the elements in the arr_list, legend_list and color_list are associated with each other correctly.\n",
    "        Do not forget to change the ylabel for different plots.\n",
    "    \"\"\"\n",
    "    # set the figure type\n",
    "    plt.clf()\n",
    "    fig, ax = plt.subplots()\n",
    "\n",
    "    # PLEASE NOTE: Change the labels for different plots\n",
    "    ax.set_ylabel(ylabel)\n",
    "    ax.set_xlabel(\"Episodes\")\n",
    "\n",
    "    # ploth results\n",
    "    h_list = []\n",
    "    for arr, legend, color in zip(arr_list, legend_list, color_list):\n",
    "        # compute the standard error\n",
    "        arr_err = arr.std(axis=0) / np.sqrt(arr.shape[0])\n",
    "        # plot the mean\n",
    "        h, = ax.plot(range(0, 1000*arr.shape[1], 1000), arr.mean(axis=0), color=color, label=legend)\n",
    "        # plot the confidence band\n",
    "        arr_err = 1.96 * arr_err\n",
    "        ax.fill_between(range(arr.shape[1]), arr.mean(axis=0) - arr_err, arr.mean(axis=0) + arr_err, alpha=0.3,\n",
    "                        color=color)\n",
    "        # save the plot handle\n",
    "        h_list.append(h)\n",
    "\n",
    "    # plot legends\n",
    "    ax.legend(handles=h_list)\n",
    "    ax.set_title('Evaluated Returns - Rotated Maze')\n",
    "    plt.show()"
   ]
  },
  {
   "cell_type": "code",
   "execution_count": null,
   "id": "45377d87-d4cd-416a-a586-158d5f813119",
   "metadata": {},
   "outputs": [],
   "source": [
    "min_len = min([len(r) for r in returns_equi])\n",
    "returns_equi = [r[:min_len] for r in returns_equi]\n",
    "\n",
    "min_len = min([len(r) for r in returns])\n",
    "returns = [r[:min_len] for r in returns]"
   ]
  },
  {
   "cell_type": "code",
   "execution_count": null,
   "id": "46ca238b-bc05-49b0-a90e-bca3904a9f3b",
   "metadata": {},
   "outputs": [],
   "source": [
    "plot_curves([np.array(eval_rot), np.array(eval_rot_equi)], ['Regular DQN', 'Equivariant DQN'], ['C0', 'C1', 'C2', 'C3', 'C4'], 'Returns')"
   ]
  },
  {
   "cell_type": "code",
   "execution_count": null,
   "id": "d0c2c977-30aa-44b2-a054-c890b4e56493",
   "metadata": {},
   "outputs": [],
   "source": [
    "plot_curves([np.array(eval_reg_equi)], 'Equivariant DQN', ['C1', 'C2', 'C3', 'C4'], 'Returns')"
   ]
  },
  {
   "cell_type": "code",
   "execution_count": null,
   "id": "dd0abccf-5b17-4d3a-af2f-db39bda8edaf",
   "metadata": {},
   "outputs": [],
   "source": [
    "def custom_dump(dqn):\n",
    "    return {\n",
    "        # 'args': (2, 9),\n",
    "        # 'kwargs': {\n",
    "        #     'num_layers': 3,\n",
    "        #     'hidden_dim': 1,\n",
    "        # },\n",
    "        'state_dict': dqn.state_dict(),\n",
    "    }\n",
    "\n",
    "checkpoint = {key: custom_dump(dqn) for key, dqn in saved_models.items()}\n",
    "torch.save(checkpoint, f'dim7_runs250000_4actions_FIXED.pt')"
   ]
  },
  {
   "cell_type": "code",
   "execution_count": null,
   "id": "e0b675bc-e3e1-4954-9b10-76d185377c15",
   "metadata": {},
   "outputs": [],
   "source": [
    "checkpoint = torch.load(\"dim7_runs25000_4actions.pt\")\n",
    "colors = ['C0', 'C1', 'C2', 'C3', 'C4']\n",
    "i = 0\n",
    "\n",
    "for key, value in checkpoint.items():\n",
    "    dqn = CNNCom()\n",
    "    dqn.load_state_dict(value[\"state_dict\"])\n",
    "\n",
    "    g_arr = []\n",
    "    for _ in range(10):\n",
    "        g, _ = evaluate(dqn, env, 0.1)\n",
    "        g_arr.append(g)\n",
    "    plt.plot(g_arr, '.', color=colors[i], label=f\"{key}: {np.mean(g_arr)}\")\n",
    "    plt.axhline(np.mean(g_arr), color=colors[i])\n",
    "    i += 1\n",
    "\n",
    "# plt.plot([0, 9], [0.932, .932], 'g', label='optimal rewards')\n",
    "plt.legend()"
   ]
  },
  {
   "cell_type": "code",
   "execution_count": null,
   "id": "4f55a5ed-6627-45e2-9766-ccf75e28ac43",
   "metadata": {},
   "outputs": [],
   "source": [
    "x = np.zeros(env.grid.shape)\n",
    "x[tuple(env.start_state)] = 1"
   ]
  },
  {
   "cell_type": "code",
   "execution_count": null,
   "id": "a0f287ec-b473-433a-9e23-a456685b8923",
   "metadata": {},
   "outputs": [],
   "source": [
    "np.argwhere(np.rot90(x, 2))[0]"
   ]
  },
  {
   "cell_type": "code",
   "execution_count": null,
   "id": "9dc0e9aa-8ca4-4c1e-89c1-4186cb70f6d8",
   "metadata": {},
   "outputs": [],
   "source": [
    "dqn = CNNCom()\n",
    "dqn.load_state_dict(checkpoint[\"50_0\"][\"state_dict\"])"
   ]
  },
  {
   "cell_type": "code",
   "execution_count": null,
   "id": "7036ae7c-3d9a-4bfc-8ece-3f7393f33f58",
   "metadata": {},
   "outputs": [],
   "source": [
    "dqn = CNNCom()"
   ]
  },
  {
   "cell_type": "code",
   "execution_count": null,
   "id": "7fcde3e8-9125-41a6-a877-ec78481af8c5",
   "metadata": {},
   "outputs": [],
   "source": [
    "dqn(torch.tensor(env.grid, dtype=torch.float32).unsqueeze(0))[0]"
   ]
  },
  {
   "cell_type": "code",
   "execution_count": null,
   "id": "781f3bb4-920d-4987-9d43-d8b139578afa",
   "metadata": {},
   "outputs": [],
   "source": [
    "rewards = [-1, -1, -1, -1, -1, -1, -1, 1]\n",
    "g=0\n",
    "for r in rewards[::-1]:\n",
    "    g = .99*g + r"
   ]
  },
  {
   "cell_type": "code",
   "execution_count": null,
   "id": "a4f46fb2-a182-4210-ac81-784b9ff779b7",
   "metadata": {},
   "outputs": [],
   "source": [
    "maze = MazeEnv(3, 123)\n",
    "maze_rot = MazeEnv(3, 123, maze.grid, 1)"
   ]
  },
  {
   "cell_type": "code",
   "execution_count": null,
   "id": "1908cd23-1bcf-48bb-afad-78169ac6d4cf",
   "metadata": {},
   "outputs": [],
   "source": [
    "maze_rot.grid"
   ]
  },
  {
   "cell_type": "code",
   "execution_count": null,
   "id": "842dc5af-d17a-45a7-a2d5-89bc068dcd82",
   "metadata": {},
   "outputs": [],
   "source": [
    "env.step(7)\n",
    "print(env.grid)\n",
    "x = (dqn_model(torch.tensor(env.grid.copy(), dtype=torch.float32).unsqueeze(0).unsqueeze(0)).reshape(3, 3))\n",
    "for y in x:\n",
    "    print(f\"{y[0]}\\t{y[1]}\\t{y[2]}\")"
   ]
  },
  {
   "cell_type": "code",
   "execution_count": null,
   "id": "fcb4c164-a1ed-42da-9aca-f4c654ce3a30",
   "metadata": {},
   "outputs": [],
   "source": [
    "q_values = dqn_model(torch.tensor(env.grid, dtype=torch.float32).unsqueeze(0))  # add dim to observation\n",
    "max_q_idx = torch.where(q_values == q_values.max())[0]\n",
    "print((max_q_idx.tolist()))"
   ]
  },
  {
   "cell_type": "code",
   "execution_count": null,
   "id": "59a9d7f9-fb4c-4c65-998c-ea61e94527c4",
   "metadata": {},
   "outputs": [],
   "source": [
    "x = (dqn_model(torch.tensor(env.grid, dtype=torch.float32).unsqueeze(0)).reshape(3, 3))\n",
    "for y in x:\n",
    "    print(f\"{y[0]}\\t{y[1]}\\t{y[2]}\")\n",
    "        "
   ]
  },
  {
   "cell_type": "code",
   "execution_count": 6,
   "id": "880aa138-e810-4665-8040-7fc665680b8d",
   "metadata": {},
   "outputs": [
    {
     "data": {
      "text/plain": [
       "[<matplotlib.lines.Line2D at 0x7fe510776d90>]"
      ]
     },
     "execution_count": 6,
     "metadata": {},
     "output_type": "execute_result"
    },
    {
     "data": {
      "image/png": "[encoded data removed]",
      "text/plain": [
       "<Figure size 432x288 with 1 Axes>"
      ]
     },
     "metadata": {
      "needs_background": "light"
     },
     "output_type": "display_data"
    }
   ],
   "source": [
    "def moving_average(data, *, window_size = 50):\n",
    "    \"\"\"Smooths 1-D data array using a moving average.\n",
    "\n",
    "    Args:\n",
    "        data: 1-D numpy.array\n",
    "        window_size: Size of the smoothing window\n",
    "\n",
    "    Returns:\n",
    "        smooth_data: A 1-d numpy.array with the same size as data\n",
    "    \"\"\"\n",
    "    # assert data.ndim == 1\n",
    "    kernel = np.ones(window_size)\n",
    "    smooth_data = np.convolve(data, kernel) / np.convolve(\n",
    "        np.ones_like(data), kernel\n",
    "    )\n",
    "    return smooth_data[: -window_size + 1]\n",
    "\n",
    "plt.plot(returns)\n",
    "plt.plot(moving_average(returns))"
   ]
  },
  {
   "cell_type": "code",
   "execution_count": null,
   "id": "738d964a-094c-40ad-90eb-58bbef54b76c",
   "metadata": {},
   "outputs": [],
   "source": [
    "checkpoint = torch.load(\"dim7_runs250000_4actions_equi.pt\")"
   ]
  },
  {
   "cell_type": "code",
   "execution_count": null,
   "id": "48badd03-f837-4c21-9a61-ea275be98335",
   "metadata": {},
   "outputs": [],
   "source": [
    "dqn = EquivariantCNNCom()\n",
    "dqn.load_state_dict(checkpoint[\"100_0\"][\"state_dict\"])\n",
    "maze = MazeEnv(3, 123)"
   ]
  },
  {
   "cell_type": "code",
   "execution_count": null,
   "id": "e9c33faa-8c04-41b7-994c-ff03e3c40163",
   "metadata": {},
   "outputs": [],
   "source": [
    "g = [evaluate(dqn, maze, 0.01)[0] for _ in range(20)]"
   ]
  },
  {
   "cell_type": "code",
   "execution_count": null,
   "id": "f252376c-7729-414e-b321-f0f36b8f4442",
   "metadata": {},
   "outputs": [],
   "source": [
    "maze_rot = MazeEnv(3, 123, maze.grid, 1)\n",
    "maze_rot.reset()"
   ]
  },
  {
   "cell_type": "code",
   "execution_count": null,
   "id": "7d78f71b-d3d8-4ae5-8f5b-37417cc70e73",
   "metadata": {},
   "outputs": [],
   "source": [
    "g_rot = [evaluate(dqn, maze_rot, 0.01)[0] for _ in range(20)]"
   ]
  },
  {
   "cell_type": "code",
   "execution_count": null,
   "id": "ac11ad09-1918-4162-876b-21e4cc7f746a",
   "metadata": {},
   "outputs": [],
   "source": [
    "g_rot"
   ]
  },
  {
   "cell_type": "code",
   "execution_count": null,
   "id": "cfce9ad7-698c-48b0-ae59-9c141ea1e836",
   "metadata": {},
   "outputs": [],
   "source": [
    "# manually evaluate equi dqn\n",
    "env.reset()"
   ]
  },
  {
   "cell_type": "code",
   "execution_count": null,
   "id": "ee354394-56fb-4dbc-90b4-710721c25c23",
   "metadata": {},
   "outputs": [],
   "source": [
    "env.step(5)"
   ]
  },
  {
   "cell_type": "code",
   "execution_count": null,
   "id": "fbc47fca-bec1-459a-a2ee-0d2aea60db7c",
   "metadata": {},
   "outputs": [],
   "source": [
    "q_values = dqn_model(torch.tensor(env.grid, dtype=torch.float32).unsqueeze(0).unsqueeze(0))  # add dim to observation\n",
    "max_q_idx = torch.where(q_values == q_values.max())[0]\n",
    "print((max_q_idx.tolist()))"
   ]
  },
  {
   "cell_type": "code",
   "execution_count": null,
   "id": "605a2801-9798-4929-b4b9-2b703d579af1",
   "metadata": {},
   "outputs": [],
   "source": [
    "q_values"
   ]
  },
  {
   "cell_type": "code",
   "execution_count": null,
   "id": "993715c5-d59c-4ac6-83fa-990aa5ba4449",
   "metadata": {},
   "outputs": [],
   "source": [
    "def moving_average(data, *, window_size = 50):\n",
    "    \"\"\"Smooths 1-D data array using a moving average.\n",
    "\n",
    "    Args:\n",
    "        data: 1-D numpy.array\n",
    "        window_size: Size of the smoothing window\n",
    "\n",
    "    Returns:\n",
    "        smooth_data: A 1-d numpy.array with the same size as data\n",
    "    \"\"\"\n",
    "    # assert data.ndim == 1\n",
    "    kernel = np.ones(window_size)\n",
    "    smooth_data = np.convolve(data, kernel) / np.convolve(\n",
    "        np.ones_like(data), kernel\n",
    "    )\n",
    "    return smooth_data[: -window_size + 1]\n",
    "\n",
    "plt.plot(returns)\n",
    "plt.plot(moving_average(returns))"
   ]
  },
  {
   "cell_type": "code",
   "execution_count": null,
   "id": "59b60c9c-64ee-4efe-b495-0ad89393d553",
   "metadata": {},
   "outputs": [],
   "source": [
    "g_equi = [evaluate(dqn_model, maze, 0.01, True)[0] for _ in range(20)]"
   ]
  },
  {
   "cell_type": "code",
   "execution_count": null,
   "id": "21eb9821-2aa5-4fa9-9b77-4205b5c67113",
   "metadata": {},
   "outputs": [],
   "source": [
    "maze_rot.reset()\n",
    "maze_rot.render()"
   ]
  },
  {
   "cell_type": "code",
   "execution_count": null,
   "id": "cb4f86f2-d56f-4fb7-9c29-84bbbe8c62b3",
   "metadata": {},
   "outputs": [],
   "source": [
    "maze_rot = MazeEnv(3, 123, maze.grid, 1)\n",
    "maze_rot.reset()\n",
    "# g_rot_equi = [evaluate(dqn_model, maze_rot, 0.01, True)[0] for _ in range(20)]"
   ]
  },
  {
   "cell_type": "code",
   "execution_count": null,
   "id": "364573a5-c695-4993-ba4b-1b456402f5ae",
   "metadata": {},
   "outputs": [],
   "source": [
    "g_rot_equi"
   ]
  },
  {
   "cell_type": "code",
   "execution_count": null,
   "id": "eb6bba34-4cef-46d2-87eb-650bb072e6e2",
   "metadata": {},
   "outputs": [],
   "source": [
    "def moving_average(data, *, window_size = 50):\n",
    "    \"\"\"Smooths 1-D data array using a moving average.\n",
    "\n",
    "    Args:\n",
    "        data: 1-D numpy.array\n",
    "        window_size: Size of the smoothing window\n",
    "\n",
    "    Returns:\n",
    "        smooth_data: A 1-d numpy.array with the same size as data\n",
    "    \"\"\"\n",
    "    # assert data.ndim == 1\n",
    "    kernel = np.ones(window_size)\n",
    "    smooth_data = np.convolve(data, kernel) / np.convolve(\n",
    "        np.ones_like(data), kernel\n",
    "    )\n",
    "    return smooth_data[: -window_size + 1]\n",
    "\n",
    "plt.plot(returns)\n",
    "plt.plot(moving_average(returns))"
   ]
  }
 ],
 "metadata": {
  "kernelspec": {
   "display_name": "Python 3 (ipykernel)",
   "language": "python",
   "name": "python3"
  },
  "language_info": {
   "codemirror_mode": {
    "name": "ipython",
    "version": 3
   },
   "file_extension": ".py",
   "mimetype": "text/x-python",
   "name": "python",
   "nbconvert_exporter": "python",
   "pygments_lexer": "ipython3",
   "version": "3.8.10"
  }
 },
 "nbformat": 4,
 "nbformat_minor": 5
}
