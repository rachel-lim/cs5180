{
 "cells": [
  {
   "cell_type": "code",
   "execution_count": 7,
   "id": "038e8549-1c0b-4157-b812-eabcd7edd9ce",
   "metadata": {},
   "outputs": [],
   "source": [
    "import random\n",
    "import numpy as np\n",
    "import matplotlib.pyplot as plt"
   ]
  },
  {
   "cell_type": "code",
   "execution_count": 10,
   "id": "aaec31ff-ba9d-4b74-8b19-9bea1388c766",
   "metadata": {},
   "outputs": [],
   "source": [
    "# from https://medium.com/@msgold/using-python-to-create-and-solve-mazes-672285723c96\n",
    "def create_maze(dim: int) -> np.array:\n",
    "    # Create a grid filled with walls\n",
    "    maze = np.ones((dim*2+1, dim*2+1))\n",
    "\n",
    "    # Define the starting point\n",
    "    x, y = (0, 0)\n",
    "    maze[2*x+1, 2*y+1] = 0\n",
    "\n",
    "    # Initialize the stack with the starting point\n",
    "    stack = [(x, y)]\n",
    "    while len(stack) > 0:\n",
    "        x, y = stack[-1]\n",
    "\n",
    "        # Define possible directions\n",
    "        directions = [(0, 1), (1, 0), (0, -1), (-1, 0)]\n",
    "        random.shuffle(directions)\n",
    "\n",
    "        for dx, dy in directions:\n",
    "            nx, ny = x + dx, y + dy\n",
    "            if nx >= 0 and ny >= 0 and nx < dim and ny < dim and maze[2*nx+1, 2*ny+1] == 1:\n",
    "                maze[2*nx+1, 2*ny+1] = 0\n",
    "                maze[2*x+1+dx, 2*y+1+dy] = 0\n",
    "                stack.append((nx, ny))\n",
    "                break\n",
    "        else:\n",
    "            stack.pop()\n",
    "            \n",
    "    # Create an entrance and an exit\n",
    "    maze[1, 0] = 0\n",
    "    maze[-2, -1] = 0\n",
    "\n",
    "    return maze"
   ]
  },
  {
   "cell_type": "code",
   "execution_count": 22,
   "id": "c8ac7e6b-1b61-4bda-9dbc-ddc29c3f9b2f",
   "metadata": {},
   "outputs": [],
   "source": [
    "class MazeEnv():\n",
    "    def __init__(self, dim):\n",
    "        self.grid = create_maze(dim)\n",
    "        self.start_state = [1, 0]\n",
    "        self.goal_state = [19, 20]\n",
    "\n",
    "        empty_cells = np.where(self.grid == 0.0)\n",
    "        self.state_space = [[col, row] for row, col in zip(empty_cells[0], empty_cells[1])]\n",
    "\n",
    "        self.actions = {\"up\": [-1, 0],\n",
    "                        \"down\": [1, 0],\n",
    "                        \"left\": [0, -1],\n",
    "                        \"right\": [0, 1]}\n",
    "\n",
    "        self.action_space = list(self.actions.keys())\n",
    "\n",
    "        self.state = self.start_state\n",
    "\n",
    "    def reset(self):\n",
    "        self.state = self.start_state\n",
    "        return self.state\n",
    "\n",
    "    def step(self, action):\n",
    "        if action not in self.action_space:\n",
    "            raise ValueError(f\"invalid action: {action}\")\n",
    "        next_state = [self.state[0] + self.actions[action][0], self.state[1] + self.actions[action][1]]\n",
    "\n",
    "        # if next state is a wall, state doesn't change\n",
    "        if self.grid[tuple(next_state)] == 0:\n",
    "            next_state = self.state\n",
    "\n",
    "        reward = 0\n",
    "        done = False\n",
    "        # reach goal\n",
    "        if next_state == self.goal_state:\n",
    "            reward = 1\n",
    "            done = True\n",
    "        # leave maze (left from start cell)\n",
    "        elif next_state[1] == -1:\n",
    "            reward = -1\n",
    "            done = True\n",
    "        \n",
    "        return next_state, reward, done\n",
    "\n",
    "    def render(self):\n",
    "        plt.imshow(self.grid)"
   ]
  },
  {
   "cell_type": "code",
   "execution_count": 23,
   "id": "656b0a8e-7505-4f59-b423-841b74321e19",
   "metadata": {},
   "outputs": [],
   "source": [
    "env = MazeEnv(10)"
   ]
  },
  {
   "cell_type": "code",
   "execution_count": 27,
   "id": "4364110f-30de-43ac-9d7c-10f448f59163",
   "metadata": {},
   "outputs": [
    {
     "data": {
      "text/plain": [
       "([1, 0], 0, False)"
      ]
     },
     "execution_count": 27,
     "metadata": {},
     "output_type": "execute_result"
    }
   ],
   "source": [
    "env.step(\"right\")"
   ]
  },
  {
   "cell_type": "code",
   "execution_count": 25,
   "id": "398e5b2e-f6be-4377-8ea7-8cc97e54226e",
   "metadata": {},
   "outputs": [
    {
     "data": {
      "image/png": "[encoded data removed]",
      "text/plain": [
       "<Figure size 432x288 with 1 Axes>"
      ]
     },
     "metadata": {
      "needs_background": "light"
     },
     "output_type": "display_data"
    }
   ],
   "source": [
    "env.render()"
   ]
  }
 ],
 "metadata": {
  "kernelspec": {
   "display_name": "Python 3 (ipykernel)",
   "language": "python",
   "name": "python3"
  },
  "language_info": {
   "codemirror_mode": {
    "name": "ipython",
    "version": 3
   },
   "file_extension": ".py",
   "mimetype": "text/x-python",
   "name": "python",
   "nbconvert_exporter": "python",
   "pygments_lexer": "ipython3",
   "version": "3.8.10"
  }
 },
 "nbformat": 4,
 "nbformat_minor": 5
}
